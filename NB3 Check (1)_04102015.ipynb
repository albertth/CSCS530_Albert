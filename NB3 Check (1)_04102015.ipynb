{
 "cells": [
  {
   "cell_type": "markdown",
   "metadata": {},
   "source": [
    "### Pandas learning\n",
    "\n",
    "pandas is an open source, BSD-licensed library providing high-performance, easy-to-use data structures and data analysis tools for the Python programming language.\n",
    "\n",
    "####What problem does pandas solve?\n",
    "\n",
    "Python has long been great for data munging and preparation, but less so for data analysis and modeling. pandas helps fill this gap, enabling you to carry out your entire data analysis workflow in Python without having to switch to a more domain specific language like R."
   ]
  },
  {
   "cell_type": "code",
   "execution_count": 2,
   "metadata": {
    "collapsed": false
   },
   "outputs": [
    {
     "data": {
      "text/plain": [
       "0     632\n",
       "1    1638\n",
       "2     569\n",
       "3     115\n",
       "dtype: int64"
      ]
     },
     "execution_count": 2,
     "metadata": {},
     "output_type": "execute_result"
    }
   ],
   "source": [
    "import pandas as pd # Normal way of importing panda \n",
    "import numpy as np\n",
    "import matplotlib.pyplot as plt\n",
    "\n",
    "counts = pd.Series([632, 1638, 569, 115])  # Arranging data as series\n",
    "counts"
   ]
  },
  {
   "cell_type": "code",
   "execution_count": 6,
   "metadata": {
    "collapsed": false
   },
   "outputs": [
    {
     "data": {
      "text/plain": [
       "<class 'pandas.tseries.index.DatetimeIndex'>\n",
       "[2013-01-01, ..., 2013-01-06]\n",
       "Length: 6, Freq: D, Timezone: None"
      ]
     },
     "execution_count": 6,
     "metadata": {},
     "output_type": "execute_result"
    }
   ],
   "source": [
    "dates = pd.date_range('20130101',periods=6)  # Arranging the dates in a specific range and period\n",
    "\n",
    "dates"
   ]
  },
  {
   "cell_type": "code",
   "execution_count": 13,
   "metadata": {
    "collapsed": false
   },
   "outputs": [
    {
     "data": {
      "text/plain": [
       "0       a\n",
       "1       b\n",
       "2       c\n",
       "3    aaba\n",
       "4    baca\n",
       "5     NaN\n",
       "6    caba\n",
       "7     dog\n",
       "8     cat\n",
       "dtype: object"
      ]
     },
     "execution_count": 13,
     "metadata": {},
     "output_type": "execute_result"
    }
   ],
   "source": [
    "# String handling using pandas\n",
    "\n",
    "\n",
    "s = pd.Series(['A', 'B', 'C', 'Aaba', 'Baca', np.nan, 'CABA', 'dog', 'cat'])\n",
    "s.str.lower() # arranging from lower to upper"
   ]
  },
  {
   "cell_type": "code",
   "execution_count": 14,
   "metadata": {
    "collapsed": false
   },
   "outputs": [
    {
     "data": {
      "text/plain": [
       "False"
      ]
     },
     "execution_count": 14,
     "metadata": {},
     "output_type": "execute_result"
    }
   ],
   "source": [
    "'b' in s # Checking for a member"
   ]
  },
  {
   "cell_type": "code",
   "execution_count": 19,
   "metadata": {
    "collapsed": false
   },
   "outputs": [
    {
     "data": {
      "text/html": [
       "<div style=\"max-height:1000px;max-width:1500px;overflow:auto;\">\n",
       "<table border=\"1\" class=\"dataframe\">\n",
       "  <thead>\n",
       "    <tr style=\"text-align: right;\">\n",
       "      <th></th>\n",
       "      <th>0</th>\n",
       "      <th>1</th>\n",
       "      <th>2</th>\n",
       "      <th>3</th>\n",
       "    </tr>\n",
       "  </thead>\n",
       "  <tbody>\n",
       "    <tr>\n",
       "      <th>0</th>\n",
       "      <td>-0.702483</td>\n",
       "      <td>-1.302738</td>\n",
       "      <td> 0.866874</td>\n",
       "      <td>-1.933726</td>\n",
       "    </tr>\n",
       "    <tr>\n",
       "      <th>1</th>\n",
       "      <td> 0.938702</td>\n",
       "      <td>-0.362819</td>\n",
       "      <td> 1.841718</td>\n",
       "      <td> 0.729484</td>\n",
       "    </tr>\n",
       "    <tr>\n",
       "      <th>2</th>\n",
       "      <td>-1.675727</td>\n",
       "      <td> 1.271371</td>\n",
       "      <td>-2.284585</td>\n",
       "      <td> 1.689693</td>\n",
       "    </tr>\n",
       "    <tr>\n",
       "      <th>3</th>\n",
       "      <td> 1.166388</td>\n",
       "      <td>-0.239490</td>\n",
       "      <td> 0.758468</td>\n",
       "      <td>-0.779264</td>\n",
       "    </tr>\n",
       "    <tr>\n",
       "      <th>4</th>\n",
       "      <td> 1.038114</td>\n",
       "      <td>-1.301299</td>\n",
       "      <td>-1.540039</td>\n",
       "      <td> 0.342497</td>\n",
       "    </tr>\n",
       "    <tr>\n",
       "      <th>5</th>\n",
       "      <td>-0.059010</td>\n",
       "      <td> 1.376160</td>\n",
       "      <td> 0.357694</td>\n",
       "      <td> 0.800298</td>\n",
       "    </tr>\n",
       "    <tr>\n",
       "      <th>6</th>\n",
       "      <td> 1.901192</td>\n",
       "      <td> 0.539553</td>\n",
       "      <td>-0.533937</td>\n",
       "      <td> 0.880921</td>\n",
       "    </tr>\n",
       "    <tr>\n",
       "      <th>7</th>\n",
       "      <td> 0.112072</td>\n",
       "      <td> 2.087702</td>\n",
       "      <td> 1.388425</td>\n",
       "      <td> 1.328757</td>\n",
       "    </tr>\n",
       "    <tr>\n",
       "      <th>8</th>\n",
       "      <td>-0.842574</td>\n",
       "      <td> 0.988255</td>\n",
       "      <td> 0.960375</td>\n",
       "      <td> 1.143503</td>\n",
       "    </tr>\n",
       "    <tr>\n",
       "      <th>9</th>\n",
       "      <td> 0.625949</td>\n",
       "      <td> 0.058318</td>\n",
       "      <td>-0.307190</td>\n",
       "      <td>-0.319485</td>\n",
       "    </tr>\n",
       "  </tbody>\n",
       "</table>\n",
       "</div>"
      ],
      "text/plain": [
       "          0         1         2         3\n",
       "0 -0.702483 -1.302738  0.866874 -1.933726\n",
       "1  0.938702 -0.362819  1.841718  0.729484\n",
       "2 -1.675727  1.271371 -2.284585  1.689693\n",
       "3  1.166388 -0.239490  0.758468 -0.779264\n",
       "4  1.038114 -1.301299 -1.540039  0.342497\n",
       "5 -0.059010  1.376160  0.357694  0.800298\n",
       "6  1.901192  0.539553 -0.533937  0.880921\n",
       "7  0.112072  2.087702  1.388425  1.328757\n",
       "8 -0.842574  0.988255  0.960375  1.143503\n",
       "9  0.625949  0.058318 -0.307190 -0.319485"
      ]
     },
     "execution_count": 19,
     "metadata": {},
     "output_type": "execute_result"
    }
   ],
   "source": [
    "df = pd.DataFrame(np.random.randn(10, 4))\n",
    "df"
   ]
  },
  {
   "cell_type": "code",
   "execution_count": 22,
   "metadata": {
    "collapsed": false
   },
   "outputs": [
    {
     "data": {
      "text/plain": [
       "[          0         1         2         3\n",
       " 0 -0.702483 -1.302738  0.866874 -1.933726\n",
       " 1  0.938702 -0.362819  1.841718  0.729484\n",
       " 2 -1.675727  1.271371 -2.284585  1.689693,\n",
       "           0         1         2         3\n",
       " 3  1.166388 -0.239490  0.758468 -0.779264\n",
       " 4  1.038114 -1.301299 -1.540039  0.342497\n",
       " 5 -0.059010  1.376160  0.357694  0.800298\n",
       " 6  1.901192  0.539553 -0.533937  0.880921,\n",
       "           0         1         2         3\n",
       " 7  0.112072  2.087702  1.388425  1.328757\n",
       " 8 -0.842574  0.988255  0.960375  1.143503\n",
       " 9  0.625949  0.058318 -0.307190 -0.319485]"
      ]
     },
     "execution_count": 22,
     "metadata": {},
     "output_type": "execute_result"
    }
   ],
   "source": [
    "pieces = [df[:3], df[3:7], df[7:]]\n",
    "pieces # Splitting to peaces"
   ]
  },
  {
   "cell_type": "code",
   "execution_count": 25,
   "metadata": {
    "collapsed": false
   },
   "outputs": [
    {
     "data": {
      "text/html": [
       "<div style=\"max-height:1000px;max-width:1500px;overflow:auto;\">\n",
       "<table border=\"1\" class=\"dataframe\">\n",
       "  <thead>\n",
       "    <tr style=\"text-align: right;\">\n",
       "      <th></th>\n",
       "      <th>A</th>\n",
       "      <th>B</th>\n",
       "      <th>C</th>\n",
       "      <th>D</th>\n",
       "    </tr>\n",
       "  </thead>\n",
       "  <tbody>\n",
       "    <tr>\n",
       "      <th>0</th>\n",
       "      <td>-0.168909</td>\n",
       "      <td> 0.338755</td>\n",
       "      <td>-2.632552</td>\n",
       "      <td>-0.026109</td>\n",
       "    </tr>\n",
       "    <tr>\n",
       "      <th>1</th>\n",
       "      <td>-0.516213</td>\n",
       "      <td>-0.530943</td>\n",
       "      <td>-0.371039</td>\n",
       "      <td> 0.402150</td>\n",
       "    </tr>\n",
       "    <tr>\n",
       "      <th>2</th>\n",
       "      <td> 2.746137</td>\n",
       "      <td> 0.749742</td>\n",
       "      <td>-0.579437</td>\n",
       "      <td>-0.175468</td>\n",
       "    </tr>\n",
       "    <tr>\n",
       "      <th>3</th>\n",
       "      <td>-1.842493</td>\n",
       "      <td>-2.017492</td>\n",
       "      <td> 0.888150</td>\n",
       "      <td>-0.295337</td>\n",
       "    </tr>\n",
       "    <tr>\n",
       "      <th>4</th>\n",
       "      <td>-0.414204</td>\n",
       "      <td> 0.781479</td>\n",
       "      <td>-1.033517</td>\n",
       "      <td>-0.683995</td>\n",
       "    </tr>\n",
       "    <tr>\n",
       "      <th>5</th>\n",
       "      <td> 0.004747</td>\n",
       "      <td>-0.905606</td>\n",
       "      <td>-0.403580</td>\n",
       "      <td>-0.944345</td>\n",
       "    </tr>\n",
       "    <tr>\n",
       "      <th>6</th>\n",
       "      <td> 1.366015</td>\n",
       "      <td>-0.654354</td>\n",
       "      <td>-1.605657</td>\n",
       "      <td> 1.167457</td>\n",
       "    </tr>\n",
       "    <tr>\n",
       "      <th>7</th>\n",
       "      <td> 0.333253</td>\n",
       "      <td> 1.444509</td>\n",
       "      <td>-0.399782</td>\n",
       "      <td> 0.064791</td>\n",
       "    </tr>\n",
       "  </tbody>\n",
       "</table>\n",
       "</div>"
      ],
      "text/plain": [
       "          A         B         C         D\n",
       "0 -0.168909  0.338755 -2.632552 -0.026109\n",
       "1 -0.516213 -0.530943 -0.371039  0.402150\n",
       "2  2.746137  0.749742 -0.579437 -0.175468\n",
       "3 -1.842493 -2.017492  0.888150 -0.295337\n",
       "4 -0.414204  0.781479 -1.033517 -0.683995\n",
       "5  0.004747 -0.905606 -0.403580 -0.944345\n",
       "6  1.366015 -0.654354 -1.605657  1.167457\n",
       "7  0.333253  1.444509 -0.399782  0.064791"
      ]
     },
     "execution_count": 25,
     "metadata": {},
     "output_type": "execute_result"
    }
   ],
   "source": [
    "# Way of drawing a Plot\n",
    "\n",
    "df = pd.DataFrame(np.random.randn(8, 4), columns=['A','B','C','D'])\n",
    "df\n",
    "# Arranginga s per A, B, C, D"
   ]
  },
  {
   "cell_type": "code",
   "execution_count": 4,
   "metadata": {
    "collapsed": false
   },
   "outputs": [
    {
     "data": {
      "text/plain": [
       "<matplotlib.axes._subplots.AxesSubplot at 0xbe24320>"
      ]
     },
     "execution_count": 4,
     "metadata": {},
     "output_type": "execute_result"
    },
    {
     "data": {
      "image/png": "[encoded data removed]",
      "text/plain": [
       "<matplotlib.figure.Figure at 0x35616d8>"
      ]
     },
     "metadata": {},
     "output_type": "display_data"
    }
   ],
   "source": [
    "\n",
    "%matplotlib inline\n",
    "\n",
    "ts = pd.Series(np.random.randn(1000), index=pd.date_range('1/1/2000', periods=1000))\n",
    "ts = ts.cumsum()\n",
    "ts.plot()"
   ]
  },
  {
   "cell_type": "code",
   "execution_count": 28,
   "metadata": {
    "collapsed": true
   },
   "outputs": [],
   "source": []
  }
 ],
 "metadata": {
  "kernelspec": {
   "display_name": "Python 2",
   "language": "python",
   "name": "python2"
  },
  "language_info": {
   "codemirror_mode": {
    "name": "ipython",
    "version": 2
   },
   "file_extension": ".py",
   "mimetype": "text/x-python",
   "name": "python",
   "nbconvert_exporter": "python",
   "pygments_lexer": "ipython2",
   "version": "2.7.8"
  }
 },
 "nbformat": 4,
 "nbformat_minor": 0
}
