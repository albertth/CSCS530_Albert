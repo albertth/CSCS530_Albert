{
 "cells": [
  {
   "cell_type": "markdown",
   "metadata": {},
   "source": [
    "# Output storing Methods\n",
    "\n",
    "### These methods shows how you can store and visualise the output from an ABM"
   ]
  },
  {
   "cell_type": "code",
   "execution_count": 49,
   "metadata": {
    "collapsed": false
   },
   "outputs": [],
   "source": [
    "from hiv_model import Model, Person  # Importing the Model from the .py file\n",
    "\n",
    "# .py extension is for continious program like C++ unliike the ipynb extension"
   ]
  },
  {
   "cell_type": "code",
   "execution_count": 50,
   "metadata": {
    "collapsed": false
   },
   "outputs": [],
   "source": [
    "# These imports are required for getting date and time which might be used Later in the program\n",
    "\n",
    "import datetime\n",
    "import os\n",
    "import time\n",
    "\n",
    "# Scientific computing imports\n",
    "import numpy\n",
    "import matplotlib.pyplot as plt\n",
    "import networkx\n",
    "import pandas\n",
    "import seaborn; seaborn.set()\n",
    "\n",
    "# Import widget methods\n",
    "from IPython.html.widgets import *"
   ]
  },
  {
   "cell_type": "code",
   "execution_count": 51,
   "metadata": {
    "collapsed": true
   },
   "outputs": [],
   "source": [
    "# Creating a model. This is just a sample model\n",
    "\n",
    "m = Model(grid_size=10, num_people=10)\n",
    "for t in xrange(10):\n",
    "    m.step()"
   ]
  },
  {
   "cell_type": "code",
   "execution_count": null,
   "metadata": {
    "collapsed": true
   },
   "outputs": [],
   "source": [
    "# This function will recieve the model and the run path as the argument and will store the model output in a dataframe\n",
    "# And then the dataframe will be stored as a csv file in the prescribed output path\n",
    "\n",
    "def store_model_parameters(model, run_output_path):\n",
    "    \"\"\"\n",
    "    Storing the model parameters from a model to the run output path.\n",
    "    \"\"\"\n",
    "    # Create parameters dictionary. Dictionary is a datastructure\n",
    "    model_parameters = {\"grid_size\": model.grid_size,\n",
    "                        \"num_people\": model.num_people,\n",
    "                        \"min_subsidy\": model.min_subsidy,\n",
    "                        \"max_subsidy\": model.max_subsidy,\n",
    "                        \"min_condom_budget\": model.min_condom_budget,\n",
    "                        \"max_condom_budget\": model.max_condom_budget,\n",
    "                        \"condom_cost\": model.condom_cost,\n",
    "                        \"min_prob_hookup\": model.min_prob_hookup,\n",
    "                        \"max_prob_hookup\": model.max_prob_hookup,\n",
    "                        \"prob_transmit\": model.prob_transmit,\n",
    "                        \"prob_transmit_condom\": model.prob_transmit_condom,\n",
    "                       }\n",
    "    # Convert to dataframe and save\n",
    "    model_parameters_df = pandas.DataFrame(model_parameters.items(),\n",
    "                             columns=[\"parameter\", \"value\"])\n",
    "    model_parameters_df.to_csv(os.path.join(run_output_path, \"parameters.csv\"))"
   ]
  },
  {
   "cell_type": "code",
   "execution_count": 26,
   "metadata": {
    "collapsed": true
   },
   "outputs": [],
   "source": [
    "\n",
    "# Storing the infected, interactions, and history into the CSV file.\n",
    "\n",
    "def store_model_csv(model, run_output_path):\n",
    "    \"\"\"\n",
    "    Store CSV data from a model to the run output path.\n",
    "    \"\"\"\n",
    "    # Create interaction dataframe\n",
    "    try:\n",
    "        interaction_df = pandas.DataFrame(model.history_interactions,\n",
    "                     columns=[\"time\", \"agent_a\", \"agent_b\", \"use_condom\", \"is_transmission\"])\n",
    "    except ValueError:\n",
    "        # Sometimes, we have no interactions in \"sparse\" parameter configurations.\n",
    "        interaction_df = pandas.DataFrame(columns=[\"time\", \"agent_a\", \"agent_b\", \"use_condom\", \"is_transmission\"])\n",
    "    \n",
    "    # Create time series data frame\n",
    "    tsdata_df = pandas.DataFrame(model.history_num_infected,\n",
    "                            columns=[\"num_infected\"])\n",
    "    tsdata_df[\"num_interactions\"] = model.history_num_interactions\n",
    "    tsdata_df[\"num_interactions_condoms\"] = model.history_num_interactions_condoms\n",
    "    \n",
    "    # Save the dataframes\n",
    "    interaction_df.to_csv(os.path.join(run_output_path, \"interactions.csv\"))\n",
    "    tsdata_df.to_csv(os.path.join(run_output_path, \"timeseries.csv\"))\n",
    "    \n",
    "    \n",
    "    "
   ]
  }
 ],
 "metadata": {
  "kernelspec": {
   "display_name": "Python 2",
   "name": "python2"
  },
  "language_info": {
   "codemirror_mode": {
    "name": "ipython",
    "version": 2
   },
   "file_extension": ".py",
   "mimetype": "text/x-python",
   "name": "python",
   "nbconvert_exporter": "python",
   "pygments_lexer": "ipython2",
   "version": "2.7.8"
  }
 },
 "nbformat": 4,
 "nbformat_minor": 0
}
