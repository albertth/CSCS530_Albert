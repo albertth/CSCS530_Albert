{
 "cells": [
  {
   "cell_type": "markdown",
   "metadata": {},
   "source": [
    "#TERM PROJECT_ (Building Mainteneance Section- Codes by Albert)\n",
    "####Complex Systems 530 - Computer Modeling of Complex Systems (Winter 2015)\n",
    "\n",
    "    "
   ]
  },
  {
   "cell_type": "markdown",
   "metadata": {},
   "source": [
    "### CLASS 1:  \n",
    "Defines the space in the model where the agents Building occupants and Building managers live and interact.\n",
    "####The class that defines the space is named as \"Building\" and this class have functions such as, \n",
    "        * Constructutor\n",
    "        * Function defining space ( As of now the space is  created as just nan's)\n",
    "        * Function creating the agents ( By calling the agent class )\n",
    "        * Functions defining the building maintenances activities\n",
    "        * Step Function that iterates and calculates the building performance\n",
    "    "
   ]
  },
  {
   "cell_type": "code",
   "execution_count": 1,
   "metadata": {
    "collapsed": false
   },
   "outputs": [
    {
     "name": "stdout",
     "output_type": "stream",
     "text": [
      "[100, 98.05344207411153, 97.67626046417213, 96.24492065832908, 95.19202747688585, 93.59062709261846, 92.89664003455601, 91.10755610894583, 90.89143746773263, 89.02986456031536]\n",
      "[0, 1, 0, 1, 0, 0, 0, 0, 1, 0]\n"
     ]
    },
    {
     "name": "stderr",
     "output_type": "stream",
     "text": [
      ":0: FutureWarning: IPython widgets are experimental and may change in the future.\n"
     ]
    }
   ],
   "source": [
    "#########################################################################\n",
    "# Standard imports\n",
    "\n",
    "%matplotlib inline\n",
    "import copy\n",
    "import itertools\n",
    "import numpy\n",
    "import matplotlib.pyplot as plt\n",
    "import networkx\n",
    "import pandas\n",
    "import seaborn; seaborn.set()\n",
    "from IPython.html.widgets import *\n",
    "#########################################################################\n",
    "\n",
    "\n",
    "class Building(object): # This is the space where building occupants and managers live\n",
    "    \"\"\"\n",
    "    Building Model.\n",
    "    \"\"\"\n",
    "    \n",
    "    def __init__(self, gridSize=10, numPeople=100, bldgEfficiency = 100, numOfYears= 10): # Constructor\n",
    "        \n",
    "        \"\"\"\n",
    "        Constructor for building performance class class.  By default,\n",
    "          * Building efficiency =100% in the start\n",
    "          * Maintenance frequency of walls, roof and windows are fixed at 2 year  \n",
    "        \"\"\"\n",
    "        # Setting the building parameters\n",
    "        \n",
    "        self.gridSize=gridSize\n",
    "        self.numPeople=numPeople\n",
    "        self.bldgEfficiency = bldgEfficiency\n",
    "        self.numOfYears = numOfYears\n",
    "        \n",
    "        # Setting the space parameters\n",
    "        \n",
    "        self.space= numpy.array((0,0))\n",
    "    \n",
    "    \n",
    "    # Create the space which is basically the place where the occupants interact \n",
    "    #def setup_space(self):\n",
    "        \"\"\"\n",
    "        Method to setup our space.\n",
    "        \"\"\"\n",
    "        # Initialize a space with a NaN's\n",
    "    #    self.space = numpy.full((self.gridSize , self.gridSize), numpy.nan)\n",
    "      #  return space\n",
    "    \n",
    "    \n",
    "    # This method should create the occupants into the space\n",
    "    def setup_people(self):\n",
    "        \"\"\"\n",
    "        Method to add occupants and managers to the space.\n",
    "        \"\"\"\n",
    "        \n",
    "        # Adding a building Manager\n",
    "        \n",
    "        Manager= BldgManager()\n",
    "        \n",
    "        # As of now the occupant part is blank. Plan is to add create the people from the class that Baddu is creating\n",
    "    \n",
    "    # This function will return the decrease of efficiency of the building on every year\n",
    "    def bldgEfficiency_decrease(self):\n",
    "        return numpy.random.uniform(1,2)\n",
    "    \n",
    "    def bldgWalls_Maintenance(self):\n",
    "        return numpy.random.uniform(0.1,0.5)\n",
    "    \n",
    "    def bldgRoofs_Maintenance(self):\n",
    "        return numpy.random.uniform(0.1,0.5)\n",
    "    \n",
    "    def bldgFloors_Maintenance(self):\n",
    "        return numpy.random.uniform(0.1,0.5)\n",
    "    \n",
    "    def edu_Programs(self):\n",
    "        \"\"\"\n",
    "        This function decides the frequency of educational awareness programs stochastically \n",
    "        \n",
    "        \"\"\"\n",
    "        edu_List= []\n",
    "        for i in range(self.numOfYears):\n",
    "            edu_List.append(0)\n",
    "        \n",
    "        for i in range(self.numOfYears):\n",
    "            edu_List[i]= numpy.random.binomial(1,0.5)\n",
    "        \n",
    "        return edu_List # If the output cell value is 1, that means there is an educational progarm for that particular year\n",
    "    \n",
    "    def step(self):\n",
    "        \n",
    "        bldgEfficiencyList =[]\n",
    "        bldgEfficiencyList.append(100)\n",
    "        \n",
    "        \n",
    "        for i in range(1,self.numOfYears):\n",
    "             \n",
    "            if (i % 2) == 0 :    \n",
    "                bldgEfficiencyList.append (bldgEfficiencyList[i-1] - self.bldgEfficiency_decrease() \n",
    "                                           + self.bldgWalls_Maintenance()\n",
    "                                           + self.bldgRoofs_Maintenance()\n",
    "                                           + self.bldgFloors_Maintenance())\n",
    "            else:\n",
    "                bldgEfficiencyList.append (bldgEfficiencyList[i-1] - self.bldgEfficiency_decrease())\n",
    "        return bldgEfficiencyList\n",
    "   \n",
    "\n",
    "#########################################################################\n",
    "myobject= Building() \n",
    "#print myobject.bldgEfficiency_decrease()\n",
    "#print bldgEfficiency\n",
    "print myobject.step()\n",
    "print myobject.edu_Programs()\n",
    "\n",
    "#Manager= BldgManager()\n",
    "#print Manager.wallsMFreq\n",
    "\n",
    "\n",
    "#########################################################################\n",
    "\n",
    "\n",
    "## Future Work.\n",
    "\n",
    "# Presently only mainteneance of walls of a building is affecting the efficiency of a building. In the future,\n",
    "# the maintenance of roofs and floors will also be accounted for. Also the frequency of educational programs \n",
    "# for the simulation period will be generated which can potentially influence the energy use behaviour of occupants "
   ]
  },
  {
   "cell_type": "markdown",
   "metadata": {},
   "source": [
    "###CLASS 2: \n",
    "Defines the second agent in the system who are the building managers who conduct building maintenance and regular educational programs\n",
    "\n",
    "    Maintenance is assumed to be conducted for Walls, Roofs and Windows\n",
    "    Also educational acivities are assumed to be conducted by the managers\n",
    "    Both activities can affect the energy use pattern in a building\n",
    "    \n",
    "####The class that defines this agent is named as \"BldgManager\" and this class have functions such as,\n",
    "    * Constructutor\n",
    "    * "
   ]
  },
  {
   "cell_type": "code",
   "execution_count": 2,
   "metadata": {
    "collapsed": true
   },
   "outputs": [],
   "source": [
    "class BldgManager(object):\n",
    "    \"\"\"\n",
    "    Building Manager who conducts the maintenance and also conducts educational and wareness programs in the building\n",
    "    \"\"\"\n",
    "    \n",
    "    def __init__(self, wallsMFreq=2.0, roofMFreq=2.0, windowsMFreq=2.0, educationFreq=3.0):\n",
    "        \n",
    "        \"\"\"\n",
    "        Constructor for building Manager\n",
    "          * Walls, Roofs and Windows maintenance is assumed to be at 2 years in the start\n",
    "          * Freq of conducting an educational program every 3 years  \n",
    "        \"\"\"\n",
    "        # Set the building parameters\n",
    "        \n",
    "        self.wallsMFreq = wallsMFreq\n",
    "        self.roofMfFreq = roofMFreq\n",
    "        self.windowsMFreq = windowsMFreq\n",
    "        self.educationFreq = educationFreq\n",
    "        \n"
   ]
  },
  {
   "cell_type": "code",
   "execution_count": 14,
   "metadata": {
    "collapsed": false
   },
   "outputs": [
    {
     "name": "stdout",
     "output_type": "stream",
     "text": [
      "1\n"
     ]
    }
   ],
   "source": [
    "edu_List= [0, 0, 0, 0, 0, 0, 0, 0, 0, 0]\n",
    "edu_List[1]=numpy.random.binomial(1,0.5)\n",
    "print edu_List[1]"
   ]
  },
  {
   "cell_type": "code",
   "execution_count": 2,
   "metadata": {
    "collapsed": false
   },
   "outputs": [
    {
     "name": "stdout",
     "output_type": "stream",
     "text": [
      "102\n",
      "[[ nan  nan  nan  nan  nan  nan  nan  nan  nan  nan]\n",
      " [ nan  nan  nan  nan  nan  nan  nan  nan  nan  nan]\n",
      " [ nan  nan  nan  nan  nan  nan  nan  nan  nan  nan]\n",
      " [ nan  nan  nan  nan  nan  nan  nan  nan  nan  nan]\n",
      " [ nan  nan  nan  nan  nan  nan  nan  nan  nan  nan]\n",
      " [ nan  nan  nan  nan  nan  nan  nan  nan  nan  nan]\n",
      " [ nan  nan  nan  nan  nan  nan  nan  nan  nan  nan]\n",
      " [ nan  nan  nan  nan  nan  nan  nan  nan  nan  nan]\n",
      " [ nan  nan  nan  nan  nan  nan  nan  nan  nan  nan]\n",
      " [ nan  nan  nan  nan  nan  nan  nan  nan  nan  nan]]\n"
     ]
    }
   ],
   "source": [
    "# TEST CELLS ---- NOT PART OF PROGRAMMING LOGIC\n",
    "\n",
    "sample= []\n",
    "\n",
    "for i in range(1,5):\n",
    "    sample.append(100 + i)\n",
    "print sample[1]\n",
    "space = numpy.full((10 , 10), numpy.nan)\n",
    "print space"
   ]
  }
 ],
 "metadata": {
  "kernelspec": {
   "display_name": "Python 2",
   "name": "python2"
  },
  "language_info": {
   "codemirror_mode": {
    "name": "ipython",
    "version": 2
   },
   "file_extension": ".py",
   "mimetype": "text/x-python",
   "name": "python",
   "nbconvert_exporter": "python",
   "pygments_lexer": "ipython2",
   "version": "2.7.8"
  }
 },
 "nbformat": 4,
 "nbformat_minor": 0
}
